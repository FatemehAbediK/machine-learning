{
  "nbformat": 4,
  "nbformat_minor": 0,
  "metadata": {
    "colab": {
      "provenance": [],
      "authorship_tag": "ABX9TyMWGMfR6esRMYyVa3q29uhc",
      "include_colab_link": true
    },
    "kernelspec": {
      "name": "python3",
      "display_name": "Python 3"
    },
    "language_info": {
      "name": "python"
    }
  },
  "cells": [
    {
      "cell_type": "markdown",
      "metadata": {
        "id": "view-in-github",
        "colab_type": "text"
      },
      "source": [
        "<a href=\"https://colab.research.google.com/github/FatemehAbediK/machine-learning/blob/main/fs.ipynb\" target=\"_parent\"><img src=\"https://colab.research.google.com/assets/colab-badge.svg\" alt=\"Open In Colab\"/></a>"
      ]
    },
    {
      "cell_type": "markdown",
      "source": [
        "#feature selection:\n",
        "\n",
        "##hill climbing"
      ],
      "metadata": {
        "id": "UhjF4VfdOlDZ"
      }
    },
    {
      "cell_type": "code",
      "execution_count": 35,
      "metadata": {
        "id": "FekFOicMOhs-"
      },
      "outputs": [],
      "source": [
        "N=5\n",
        "\n",
        "EPOCHS=50"
      ]
    },
    {
      "cell_type": "code",
      "source": [
        "import random"
      ],
      "metadata": {
        "id": "26wgDakgPIzp"
      },
      "execution_count": 36,
      "outputs": []
    },
    {
      "cell_type": "code",
      "source": [
        "#have a random solution as a parent:\n",
        "\n",
        "def init_solution(n):\n",
        "    return [random.randint(0,1) for i in range(n)]"
      ],
      "metadata": {
        "id": "2idb7_vrOu4I"
      },
      "execution_count": 37,
      "outputs": []
    },
    {
      "cell_type": "code",
      "source": [
        "print(init_solution(5))"
      ],
      "metadata": {
        "colab": {
          "base_uri": "https://localhost:8080/"
        },
        "id": "0VXeCJbbOu0Q",
        "outputId": "9e7382aa-9937-4dfe-f028-3fc9b0aa0b7c"
      },
      "execution_count": 38,
      "outputs": [
        {
          "output_type": "stream",
          "name": "stdout",
          "text": [
            "[0, 1, 0, 1, 1]\n"
          ]
        }
      ]
    },
    {
      "cell_type": "code",
      "source": [
        "parent=init_solution(N)"
      ],
      "metadata": {
        "id": "f3aq3OhzOuxB"
      },
      "execution_count": 39,
      "outputs": []
    },
    {
      "cell_type": "code",
      "source": [
        "#have children:\n",
        "\n",
        "def new_solution(parent , n):\n",
        "  child=parent.copy()\n",
        "  cell=random.randint(0,n-1)\n",
        "  child[cell]=1 if child[cell]==0 else 0\n",
        "  return child"
      ],
      "metadata": {
        "id": "gXfHXIBjOute"
      },
      "execution_count": 40,
      "outputs": []
    },
    {
      "cell_type": "code",
      "source": [
        "child_check=new_solution([1,1,0,0,1] , 5)\n",
        "print(child_check)"
      ],
      "metadata": {
        "colab": {
          "base_uri": "https://localhost:8080/"
        },
        "id": "3mGrbXVLRvfG",
        "outputId": "524d3507-a7ca-47a1-b4a4-61f8dbfd0e4c"
      },
      "execution_count": 41,
      "outputs": [
        {
          "output_type": "stream",
          "name": "stdout",
          "text": [
            "[1, 0, 0, 0, 1]\n"
          ]
        }
      ]
    },
    {
      "cell_type": "code",
      "source": [
        "child=new_solution(parent , N)"
      ],
      "metadata": {
        "id": "VVlP6o4YQUJu"
      },
      "execution_count": 42,
      "outputs": []
    },
    {
      "cell_type": "code",
      "source": [
        "print(parent)\n",
        "print(child)"
      ],
      "metadata": {
        "colab": {
          "base_uri": "https://localhost:8080/"
        },
        "id": "7z3Xm1-tQa5o",
        "outputId": "a25577bb-9b95-4b0e-9b08-b09da529b50e"
      },
      "execution_count": 43,
      "outputs": [
        {
          "output_type": "stream",
          "name": "stdout",
          "text": [
            "[1, 1, 1, 0, 1]\n",
            "[1, 1, 1, 0, 0]\n"
          ]
        }
      ]
    },
    {
      "cell_type": "markdown",
      "source": [
        "now check fitness(accuracy)"
      ],
      "metadata": {
        "id": "Qc0mWKS9QgrR"
      }
    },
    {
      "cell_type": "code",
      "source": [
        "import numpy as np\n",
        "import pandas as pd"
      ],
      "metadata": {
        "id": "yOeFpZOWTKk-"
      },
      "execution_count": 44,
      "outputs": []
    },
    {
      "cell_type": "code",
      "source": [
        "from sklearn import datasets\n",
        "from sklearn.model_selection import train_test_split\n",
        "from sklearn.metrics import accuracy_score\n",
        "from sklearn import svm"
      ],
      "metadata": {
        "id": "B8Tn5aitQjQq"
      },
      "execution_count": 45,
      "outputs": []
    },
    {
      "cell_type": "code",
      "source": [
        "data=datasets.load_breast_cancer()"
      ],
      "metadata": {
        "id": "3JEFqSYuQ_x1"
      },
      "execution_count": 46,
      "outputs": []
    },
    {
      "cell_type": "code",
      "source": [
        "x=data.data\n",
        "y=data.target"
      ],
      "metadata": {
        "id": "WMUvmrwxQ_v1"
      },
      "execution_count": 47,
      "outputs": []
    },
    {
      "cell_type": "code",
      "source": [
        "x_train , x_test , y_train , y_test=train_test_split(x,y,test_size=0.2)"
      ],
      "metadata": {
        "id": "xxcvG6KLQ_t3"
      },
      "execution_count": 48,
      "outputs": []
    },
    {
      "cell_type": "code",
      "source": [
        "#have fitness function:\n",
        "\n",
        "def fitness(solution , x_train , x_test , y_train , y_test):\n",
        "  _x_train=[]\n",
        "  for i in range(len(x_train)):\n",
        "    lst=[]\n",
        "    for j in range(len(solution)):\n",
        "      if solution[j]==1:\n",
        "        lst.append(x_train[i][j])\n",
        "    _x_train.append(lst)\n",
        "\n",
        "  _x_test=[]\n",
        "  for i in range(len(x_test)):\n",
        "    lst=[]\n",
        "    for j in range(len(solution)):\n",
        "      if solution[j]==1:\n",
        "        lst.append(x_test[i][j])\n",
        "    _x_test.append(lst)\n",
        "\n",
        "\n",
        "\n",
        "    #model:\n",
        "\n",
        "  model=svm.SVC(kernel='linear')\n",
        "  model.fit(_x_train , y_train)\n",
        "  score=model.score(_x_test , y_test)\n",
        "  return score"
      ],
      "metadata": {
        "id": "u50-BsqwSqTH"
      },
      "execution_count": 49,
      "outputs": []
    },
    {
      "cell_type": "code",
      "source": [
        "parent_fitness=fitness(parent , x_train , x_test , y_train , y_test)\n",
        "child_fitness=fitness(child , x_train , x_test , y_train , y_test)"
      ],
      "metadata": {
        "id": "8JEwZjgESCv_"
      },
      "execution_count": 50,
      "outputs": []
    },
    {
      "cell_type": "code",
      "source": [
        "print(parent_fitness)\n",
        "print(child_fitness)"
      ],
      "metadata": {
        "colab": {
          "base_uri": "https://localhost:8080/"
        },
        "id": "40uVRCbhSCr5",
        "outputId": "3bce5947-38e6-447b-930a-9ed3c3cc4c0d"
      },
      "execution_count": 51,
      "outputs": [
        {
          "output_type": "stream",
          "name": "stdout",
          "text": [
            "0.9122807017543859\n",
            "0.9122807017543859\n"
          ]
        }
      ]
    },
    {
      "cell_type": "markdown",
      "source": [
        "now let's go into the loop"
      ],
      "metadata": {
        "id": "_A42HygxWTCf"
      }
    },
    {
      "cell_type": "code",
      "source": [
        "parent=init_solution(N)\n",
        "parent_fitness=fitness(parent , x_train , x_test , y_train , y_test)\n",
        "\n",
        "for i in range(EPOCHS):\n",
        "  child=new_solution(parent , N)\n",
        "  child_fitness=fitness(child , x_train , x_test , y_train , y_test)\n",
        "\n",
        "  print(f\"{i+1} ---> parent:{parent_fitness} , child:{child_fitness}\")\n",
        "\n",
        "  if parent_fitness < child_fitness:\n",
        "    parent=child.copy()\n",
        "    parent_fitness=child_fitness\n",
        "\n",
        "print(f\"best found feature: {parent}    {parent_fitness}\")"
      ],
      "metadata": {
        "colab": {
          "base_uri": "https://localhost:8080/"
        },
        "id": "q11_KdCqSCpl",
        "outputId": "1db90ae1-17f0-428c-a868-03cf732a10a3"
      },
      "execution_count": 52,
      "outputs": [
        {
          "output_type": "stream",
          "name": "stdout",
          "text": [
            "1 ---> parent:0.8596491228070176 , child:0.8596491228070176\n",
            "2 ---> parent:0.8596491228070176 , child:0.9122807017543859\n",
            "3 ---> parent:0.9122807017543859 , child:0.9122807017543859\n",
            "4 ---> parent:0.9122807017543859 , child:0.8859649122807017\n",
            "5 ---> parent:0.9122807017543859 , child:0.8771929824561403\n",
            "6 ---> parent:0.9122807017543859 , child:0.9122807017543859\n",
            "7 ---> parent:0.9122807017543859 , child:0.8771929824561403\n",
            "8 ---> parent:0.9122807017543859 , child:0.9122807017543859\n",
            "9 ---> parent:0.9122807017543859 , child:0.9122807017543859\n",
            "10 ---> parent:0.9122807017543859 , child:0.8596491228070176\n",
            "11 ---> parent:0.9122807017543859 , child:0.8771929824561403\n",
            "12 ---> parent:0.9122807017543859 , child:0.9122807017543859\n",
            "13 ---> parent:0.9122807017543859 , child:0.9122807017543859\n",
            "14 ---> parent:0.9122807017543859 , child:0.9122807017543859\n",
            "15 ---> parent:0.9122807017543859 , child:0.8859649122807017\n",
            "16 ---> parent:0.9122807017543859 , child:0.8596491228070176\n",
            "17 ---> parent:0.9122807017543859 , child:0.9122807017543859\n",
            "18 ---> parent:0.9122807017543859 , child:0.8859649122807017\n",
            "19 ---> parent:0.9122807017543859 , child:0.8771929824561403\n",
            "20 ---> parent:0.9122807017543859 , child:0.9122807017543859\n",
            "21 ---> parent:0.9122807017543859 , child:0.8771929824561403\n",
            "22 ---> parent:0.9122807017543859 , child:0.9122807017543859\n",
            "23 ---> parent:0.9122807017543859 , child:0.8596491228070176\n",
            "24 ---> parent:0.9122807017543859 , child:0.9122807017543859\n",
            "25 ---> parent:0.9122807017543859 , child:0.8859649122807017\n",
            "26 ---> parent:0.9122807017543859 , child:0.9122807017543859\n",
            "27 ---> parent:0.9122807017543859 , child:0.8859649122807017\n",
            "28 ---> parent:0.9122807017543859 , child:0.8859649122807017\n",
            "29 ---> parent:0.9122807017543859 , child:0.9122807017543859\n",
            "30 ---> parent:0.9122807017543859 , child:0.9122807017543859\n",
            "31 ---> parent:0.9122807017543859 , child:0.8596491228070176\n",
            "32 ---> parent:0.9122807017543859 , child:0.8771929824561403\n",
            "33 ---> parent:0.9122807017543859 , child:0.9122807017543859\n",
            "34 ---> parent:0.9122807017543859 , child:0.9122807017543859\n",
            "35 ---> parent:0.9122807017543859 , child:0.8596491228070176\n",
            "36 ---> parent:0.9122807017543859 , child:0.8771929824561403\n",
            "37 ---> parent:0.9122807017543859 , child:0.9122807017543859\n",
            "38 ---> parent:0.9122807017543859 , child:0.8771929824561403\n",
            "39 ---> parent:0.9122807017543859 , child:0.9122807017543859\n",
            "40 ---> parent:0.9122807017543859 , child:0.9122807017543859\n",
            "41 ---> parent:0.9122807017543859 , child:0.9122807017543859\n",
            "42 ---> parent:0.9122807017543859 , child:0.9122807017543859\n",
            "43 ---> parent:0.9122807017543859 , child:0.8596491228070176\n",
            "44 ---> parent:0.9122807017543859 , child:0.8596491228070176\n",
            "45 ---> parent:0.9122807017543859 , child:0.8596491228070176\n",
            "46 ---> parent:0.9122807017543859 , child:0.8859649122807017\n",
            "47 ---> parent:0.9122807017543859 , child:0.8859649122807017\n",
            "48 ---> parent:0.9122807017543859 , child:0.9122807017543859\n",
            "49 ---> parent:0.9122807017543859 , child:0.8596491228070176\n",
            "50 ---> parent:0.9122807017543859 , child:0.8596491228070176\n",
            "best found feature: [1, 1, 1, 1, 0]    0.9122807017543859\n"
          ]
        }
      ]
    },
    {
      "cell_type": "code",
      "source": [],
      "metadata": {
        "id": "7FranvkHSClZ"
      },
      "execution_count": 52,
      "outputs": []
    }
  ]
}